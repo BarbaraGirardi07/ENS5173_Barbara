{
 "cells": [
  {
   "cell_type": "markdown",
   "id": "f0b6eb3c-75f3-4369-b4a3-4423feae3ce3",
   "metadata": {},
   "source": [
    "# Etapa 03\n",
    "Gerar números aleatórios que representem a atividade industrial (ex: toneladas de cimento produzido). Utilize alguma indústria do estado para basear seus códigos."
   ]
  },
  {
   "cell_type": "markdown",
   "id": "ef6f815b-f599-4a45-ae75-3417b83d9fa9",
   "metadata": {},
   "source": [
    "## Pesquisa Prévia de dados"
   ]
  },
  {
   "cell_type": "markdown",
   "id": "eee59f31-d1d7-4458-987f-fa553f271c8e",
   "metadata": {},
   "source": [
    "Para este trabalho, optou-se por pesquisar a atividade agroindustrial do estado de Santa Catarina, visto que é um setor bastante impactante no estado. Para tal, foi utilizado o site do Instituto Brasileiro de Geografia e Estatistica - IBGE para abtenção de dados confiáveis que englobem uma precisão quanto ao estado de Santa Catarina.\n",
    "\n",
    "Optou-se por dados da produção de mel de abelha, produto qual o estado é líder brasileiro na produção. São cerca de 6.824 produtores rurais e 315 mil colmeias ativas. Os dados iniciais foram retirados do IBGE entre os anos de 2012 e 2022, disponíveis no seguinte link: https://cidades.ibge.gov.br/brasil/sc/pesquisa/18/0?ano=2022."
   ]
  },
  {
   "cell_type": "code",
   "execution_count": 3,
   "id": "795c3394-049e-42ac-85f7-94268c1f7a1d",
   "metadata": {},
   "outputs": [
    {
     "name": "stdout",
     "output_type": "stream",
     "text": [
      "Produção de mel de abelha em Santa Catarina entre 2012 e 2022: [4388589, 4886614, 4783425, 2869508, 4869268, 4200031, 3753299, 4080789, 4296382, 4573934, 4573775]\n"
     ]
    },
    {
     "data": {
      "text/plain": [
       "list"
      ]
     },
     "execution_count": 3,
     "metadata": {},
     "output_type": "execute_result"
    }
   ],
   "source": [
    "import numpy as np\n",
    "n = np.array(0)\n",
    "ProducaoIndustrialMel = [4388589, 4886614, 4783425, 2869508, 4869268, 4200031, 3753299, 4080789, 4296382, 4573934, 4573775] #cria uma estrutura de dados que armazena os dados do IBGE\n",
    "print(\"Produção de mel de abelha em Santa Catarina entre 2012 e 2022:\", ProducaoIndustrialMel)\n",
    "type (ProducaoIndustrialMel)"
   ]
  },
  {
   "cell_type": "code",
   "execution_count": 4,
   "id": "052774f4-1c6e-48e8-98f6-38b86df0e10c",
   "metadata": {},
   "outputs": [
    {
     "name": "stdout",
     "output_type": "stream",
     "text": [
      "Maior valor produzido: 4886614 kg\n",
      "Menor valor produzido: 2869508 kg\n"
     ]
    }
   ],
   "source": [
    "#Encontrar o maior e o menor valor da lista gerada\n",
    "maiorValor = max(ProducaoIndustrialMel)\n",
    "menorValor = min(ProducaoIndustrialMel)\n",
    "print (\"Maior valor produzido:\", maiorValor, 'kg')\n",
    "print ('Menor valor produzido:', menorValor, 'kg')"
   ]
  },
  {
   "cell_type": "code",
   "execution_count": 5,
   "id": "ae7be45e-17be-4233-bed5-e5d1cd2a3ec4",
   "metadata": {},
   "outputs": [
    {
     "name": "stdout",
     "output_type": "stream",
     "text": [
      "[4388589 4886614 4783425 2869508 4869268 4200031 3753299 4080789 4296382\n",
      " 4573934 4573775]\n"
     ]
    }
   ],
   "source": [
    "n = np.array(ProducaoIndustrialMel)\n",
    "print(n)"
   ]
  },
  {
   "cell_type": "markdown",
   "id": "e7926331-4711-4ea6-832b-630653b3d6b1",
   "metadata": {},
   "source": [
    "Considerando que a menor produção foi de 2.869.508 kg, com a média de aproximadamente 239.125 kg/mês, este valor será adotado como produção mínima mensal a seguir.\n",
    "\n",
    "Além disso, considerou-se como valor máximo mensal a maior produção deste estudo/11, para dividir entre 11 valores.\n",
    "\n",
    "Por fim, somou-se um valor extra que, respeitando a soma dos 11 valores, alcance o valor da produção maior."
   ]
  },
  {
   "cell_type": "code",
   "execution_count": 47,
   "id": "f85c8d81-cc9d-42af-827c-5199689f01a8",
   "metadata": {},
   "outputs": [
    {
     "name": "stdout",
     "output_type": "stream",
     "text": [
      "Produção Mensal Aleatória = [433897 279214 289091 348043 428215 389961 376364 437487 360145 307145\n",
      " 324635] 912417\n",
      "4886614\n"
     ]
    }
   ],
   "source": [
    "#Produção mensal de mel de abelha para atingir o valor anual máximo de 4.886.614 kg\n",
    " \n",
    "producaoAleatoria = np.random.randint(239125, 444237, 11) #criei 11 valores aleatorios que representam o ano de produção do maiorValor\n",
    "somaProducaoAleatoria = np.sum(producaoAleatoria)\n",
    "\n",
    "valorSeparado = maiorValor - somaProducaoAleatoria #valor criado para representar um mês, que não extrapole a produção total\n",
    "ultimoValor = valorSeparado\n",
    "\n",
    "totalProducao = valorSeparado+somaProducaoAleatoria\n",
    "print ('Produção Mensal Aleatória =', producaoAleatoria, valorSeparado)\n",
    "print(totalProducao) #deve resultar no valor final da maior produção"
   ]
  },
  {
   "cell_type": "code",
   "execution_count": 48,
   "id": "b2a348f1-98c2-488b-a69d-77be845a5d58",
   "metadata": {},
   "outputs": [
    {
     "name": "stdout",
     "output_type": "stream",
     "text": [
      "[433897 279214 289091 348043 428215 389961 376364 437487 360145 307145\n",
      " 324635]\n"
     ]
    }
   ],
   "source": [
    "matriz = np.array(producaoAleatoria)\n",
    "print(matriz)"
   ]
  },
  {
   "cell_type": "code",
   "execution_count": 51,
   "id": "af862530-062d-492d-a86f-7374ade34074",
   "metadata": {},
   "outputs": [],
   "source": [
    "#Tabela com os valores obtidos anteriormente\n",
    "import pandas as pd\n",
    "\n",
    "# Criação dataframe\n",
    "data = {'Mês': ['Jan', 'Fev', 'Mar', 'Abr','Mai', 'Jun', 'Jul', 'Ago', 'Set', 'Out', 'Nov', 'Dez'],\n",
    "        'Produção de mel de abelha (kg)': [matriz[0], matriz[1], matriz[2], matriz[3], matriz[4], matriz[5], matriz[6], matriz[7], matriz[8], matriz[9], matriz[10], ultimoValor]}\n",
    "\n",
    "df = pd.DataFrame(data)"
   ]
  },
  {
   "cell_type": "code",
   "execution_count": 52,
   "id": "522515ba-55a5-4f17-9942-818532a6cd3f",
   "metadata": {},
   "outputs": [
    {
     "data": {
      "text/html": [
       "<div>\n",
       "<style scoped>\n",
       "    .dataframe tbody tr th:only-of-type {\n",
       "        vertical-align: middle;\n",
       "    }\n",
       "\n",
       "    .dataframe tbody tr th {\n",
       "        vertical-align: top;\n",
       "    }\n",
       "\n",
       "    .dataframe thead th {\n",
       "        text-align: right;\n",
       "    }\n",
       "</style>\n",
       "<table border=\"1\" class=\"dataframe\">\n",
       "  <thead>\n",
       "    <tr style=\"text-align: right;\">\n",
       "      <th></th>\n",
       "      <th>Mês</th>\n",
       "      <th>Produção de mel de abelha (kg)</th>\n",
       "    </tr>\n",
       "  </thead>\n",
       "  <tbody>\n",
       "    <tr>\n",
       "      <th>0</th>\n",
       "      <td>Jan</td>\n",
       "      <td>433897</td>\n",
       "    </tr>\n",
       "    <tr>\n",
       "      <th>1</th>\n",
       "      <td>Fev</td>\n",
       "      <td>279214</td>\n",
       "    </tr>\n",
       "    <tr>\n",
       "      <th>2</th>\n",
       "      <td>Mar</td>\n",
       "      <td>289091</td>\n",
       "    </tr>\n",
       "    <tr>\n",
       "      <th>3</th>\n",
       "      <td>Abr</td>\n",
       "      <td>348043</td>\n",
       "    </tr>\n",
       "    <tr>\n",
       "      <th>4</th>\n",
       "      <td>Mai</td>\n",
       "      <td>428215</td>\n",
       "    </tr>\n",
       "    <tr>\n",
       "      <th>5</th>\n",
       "      <td>Jun</td>\n",
       "      <td>389961</td>\n",
       "    </tr>\n",
       "    <tr>\n",
       "      <th>6</th>\n",
       "      <td>Jul</td>\n",
       "      <td>376364</td>\n",
       "    </tr>\n",
       "    <tr>\n",
       "      <th>7</th>\n",
       "      <td>Ago</td>\n",
       "      <td>437487</td>\n",
       "    </tr>\n",
       "    <tr>\n",
       "      <th>8</th>\n",
       "      <td>Set</td>\n",
       "      <td>360145</td>\n",
       "    </tr>\n",
       "    <tr>\n",
       "      <th>9</th>\n",
       "      <td>Out</td>\n",
       "      <td>307145</td>\n",
       "    </tr>\n",
       "    <tr>\n",
       "      <th>10</th>\n",
       "      <td>Nov</td>\n",
       "      <td>324635</td>\n",
       "    </tr>\n",
       "    <tr>\n",
       "      <th>11</th>\n",
       "      <td>Dez</td>\n",
       "      <td>912417</td>\n",
       "    </tr>\n",
       "  </tbody>\n",
       "</table>\n",
       "</div>"
      ],
      "text/plain": [
       "    Mês  Produção de mel de abelha (kg)\n",
       "0   Jan                          433897\n",
       "1   Fev                          279214\n",
       "2   Mar                          289091\n",
       "3   Abr                          348043\n",
       "4   Mai                          428215\n",
       "5   Jun                          389961\n",
       "6   Jul                          376364\n",
       "7   Ago                          437487\n",
       "8   Set                          360145\n",
       "9   Out                          307145\n",
       "10  Nov                          324635\n",
       "11  Dez                          912417"
      ]
     },
     "execution_count": 52,
     "metadata": {},
     "output_type": "execute_result"
    }
   ],
   "source": [
    "df"
   ]
  },
  {
   "cell_type": "markdown",
   "id": "243345fb-44a0-4be4-b6af-b9aece3caadc",
   "metadata": {},
   "source": [
    "Dessa forma, a tabela apresentada anteriormente apresenta os valores de mel de abelha produzido no ano de maior produção."
   ]
  },
  {
   "cell_type": "code",
   "execution_count": null,
   "id": "45c165af-be30-4cde-bd47-f34ad16273a9",
   "metadata": {},
   "outputs": [],
   "source": []
  }
 ],
 "metadata": {
  "kernelspec": {
   "display_name": "Python 3 (ipykernel)",
   "language": "python",
   "name": "python3"
  },
  "language_info": {
   "codemirror_mode": {
    "name": "ipython",
    "version": 3
   },
   "file_extension": ".py",
   "mimetype": "text/x-python",
   "name": "python",
   "nbconvert_exporter": "python",
   "pygments_lexer": "ipython3",
   "version": "3.11.8"
  }
 },
 "nbformat": 4,
 "nbformat_minor": 5
}
