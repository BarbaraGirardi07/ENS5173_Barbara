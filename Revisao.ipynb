{
 "cells": [
  {
   "cell_type": "code",
   "execution_count": 1,
   "id": "e329fa7f-c749-40f7-a7dd-75b20d411abd",
   "metadata": {},
   "outputs": [
    {
     "name": "stdout",
     "output_type": "stream",
     "text": [
      "Guilherme gente fina\n"
     ]
    }
   ],
   "source": [
    "#Tipos de Variáveis - string\n",
    "\n",
    "a = 'Guilherme '\n",
    "b = a + 'gente fina'\n",
    "print(b)"
   ]
  },
  {
   "cell_type": "code",
   "execution_count": 5,
   "id": "ff75c8e7-f960-4313-912a-236f330eeaa5",
   "metadata": {},
   "outputs": [
    {
     "name": "stdout",
     "output_type": "stream",
     "text": [
      "11\n",
      "<class 'int'>\n"
     ]
    }
   ],
   "source": [
    "#Tipo de Variável - inteira\n",
    "\n",
    "c = 1\n",
    "d = c + 10\n",
    "print (d)\n",
    "print(type(d))\n"
   ]
  },
  {
   "cell_type": "code",
   "execution_count": 12,
   "id": "a168e199-4df9-4713-af42-ea8a063e89fe",
   "metadata": {},
   "outputs": [
    {
     "name": "stdout",
     "output_type": "stream",
     "text": [
      "Valor deg = 21.0 e o valor de h = 110.25\n",
      "<class 'float'>\n",
      "Valor de f = 10 do tipo = <class 'int'>\n",
      "Valor de f = 10.0 do tipo = <class 'float'>\n"
     ]
    }
   ],
   "source": [
    "#float\n",
    "\n",
    "f = 10.5\n",
    "g = f*2\n",
    "h = f**2 #ao quadrado\n",
    "\n",
    "print('Valor deg = ' +str(g) + ' e o valor de h = ' + str(h))\n",
    "print(type(h))\n",
    "\n",
    "f = int(f)\n",
    "print('Valor de f = ' + str(f)+ ' do tipo = ' + str(type(f)))\n",
    "\n",
    "f = float(f)\n",
    "print('Valor de f = ' + str(f)+ ' do tipo = ' + str(type(f)))"
   ]
  },
  {
   "cell_type": "code",
   "execution_count": 16,
   "id": "d29da1fd-747e-4f17-a1dc-68541a8b4a09",
   "metadata": {},
   "outputs": [
    {
     "name": "stdout",
     "output_type": "stream",
     "text": [
      "['Guilherme', 'Flavia', 'Lucas']\n",
      "[3, 6, 6]\n",
      "<class 'list'>\n"
     ]
    }
   ],
   "source": [
    "#Exemplo de dicionário\n",
    "\n",
    "dicionario = {\n",
    "    \"alunos\": ['Guilherme', 'Flavia', 'Lucas'],\n",
    "    \"notas\": [3, 6, 6]\n",
    "}\n",
    "print(dicionario['alunos'])\n",
    "print(dicionario['notas'])\n",
    "print(type(dicionario['notas']))"
   ]
  },
  {
   "cell_type": "code",
   "execution_count": 22,
   "id": "fed5bb30-50e5-4bef-a9e5-2a27a0c8d770",
   "metadata": {},
   "outputs": [
    {
     "name": "stdout",
     "output_type": "stream",
     "text": [
      "Guilherme\n",
      "Flavia\n",
      "Lucas\n"
     ]
    }
   ],
   "source": [
    "#Treinando loop\n",
    "for alunos in dicionario['alunos']:\n",
    "    print (alunos)"
   ]
  },
  {
   "cell_type": "code",
   "execution_count": 33,
   "id": "322abde0-98e7-4c7a-a807-579a2129dc4d",
   "metadata": {},
   "outputs": [
    {
     "name": "stdout",
     "output_type": "stream",
     "text": [
      "0 Guilherme nota = 3\n",
      "1 Flavia nota = 6\n",
      "2 Lucas nota = 6\n",
      "\n",
      "0 Guilherme nota = 3\n",
      "1 Flavia nota = 6\n",
      "2 Lucas nota = 6\n"
     ]
    }
   ],
   "source": [
    "for ii, aluno in enumerate(dicionario['alunos']): #para cada valor de dicionario, o enumerate extrai o elemento aluno que recebe cada elemento da lista\n",
    "    print(str(ii) + ' '+ aluno + ' nota = ' + str(dicionario['notas'] [ii])) #\n",
    "\n",
    "print('')\n",
    "for ii in range(0, len(dicionario['alunos'])): #de 0 até 3, que é o tamanho da lista\n",
    "    print(str(ii) + ' '+ str(dicionario['alunos'] [ii]) + ' nota = ' + str(dicionario['notas'] [ii]))\n",
    "\n",
    "#loop é uma repetição, para ii (primeiro ii é 0, depois 2, depois 3) dentro de um valor entre 0 e o tamanho de vetor dicionario (que no caso é 3 valores), faça ii como um texto com o primeiro valor, depois a nota com o dicionario "
   ]
  },
  {
   "cell_type": "code",
   "execution_count": 37,
   "id": "d66b8e2f-c7f3-4a95-a5ce-120a25b00d58",
   "metadata": {},
   "outputs": [
    {
     "name": "stdout",
     "output_type": "stream",
     "text": [
      "0 Guilherme nota = 10.0\n",
      "1 Flavia nota = 6\n",
      "2 Lucas nota = 6\n",
      "\n",
      "0 Guilherme nota = 3\n",
      "1 Flavia nota = 6\n",
      "2 Lucas nota = 10.0\n"
     ]
    }
   ],
   "source": [
    "#loop com condicao\n",
    "for ii, aluno in enumerate(dicionario['alunos']):\n",
    "    if aluno =='Guilherme': #se o que recebeu primeiro for guilherme, faz esse ptin\n",
    "         print(str(ii) + ' '+ aluno + ' nota = 10.0') \n",
    "    else:\n",
    "        print(str(ii) + ' '+ aluno + ' nota = ' + str(dicionario['notas'] [ii])) \n",
    "\n",
    "print('')\n",
    "for ii, aluno in enumerate(dicionario['alunos']):\n",
    "    if ii ==2: #para o terceiro aluno da lista, ele da a nota 10, pros outros, faz o else\n",
    "         print(str(ii) + ' '+ aluno + ' nota = 10.0') \n",
    "    else:\n",
    "        print(str(ii) + ' '+ aluno + ' nota = ' + str(dicionario['notas'] [ii])) "
   ]
  },
  {
   "cell_type": "code",
   "execution_count": 49,
   "id": "b2059595-5cfb-4843-8d45-f0e19bff95fe",
   "metadata": {},
   "outputs": [
    {
     "name": "stdout",
     "output_type": "stream",
     "text": [
      "False\n",
      "True\n",
      "False\n",
      "True\n",
      "True\n",
      "True\n",
      "False\n",
      "<class 'bool'>\n"
     ]
    }
   ],
   "source": [
    "# Operações lógicas\n",
    "\n",
    "a = 1\n",
    "b = 3\n",
    "c = 1\n",
    "print(a == b) #igual a - operação logica\n",
    "print (a==c)\n",
    "print (a>b)\n",
    "print(a<b)\n",
    "print(a>=c)\n",
    "print(a!=b)\n",
    "print(a!=c)\n",
    "\n",
    "opTF = a!=c #opTF recebe um teste lógico e se tranforma numa variavel booleana, uma variavel que é ou true ou false\n",
    "print(type(opTF))\n",
    "\n",
    "opT = True\n",
    "opF = False"
   ]
  },
  {
   "cell_type": "code",
   "execution_count": 61,
   "id": "d17d21b1-6f5e-4b73-9a14-505b30a5de37",
   "metadata": {},
   "outputs": [
    {
     "name": "stdout",
     "output_type": "stream",
     "text": [
      "0 Guilherme nota = 9.5\n",
      "1 Flavia nota = 6\n",
      "2 Lucas nota = 9\n"
     ]
    }
   ],
   "source": [
    "dicionario = {\n",
    "    \"alunos\": ['Guilherme', 'Flavia', 'Lucas'],\n",
    "    \"notas\": [9.5, 6, 6]\n",
    "}\n",
    "dicionario['notas'][2]= 9 #troquei a nota do lucas\n",
    "\n",
    "for ii, aluno in enumerate(dicionario['alunos']): #enumere o que tem dentro do dicionario alunos\n",
    "    if (aluno =='Guilherme') and (dicionario['notas'][ii]<=9):#o aluno é o Guilherme e a nota é abaixo de 9\n",
    "         print(str(ii) + ' '+ aluno + ' nota = 10.0') #faça 10\n",
    "    else: #se nao for o gui ou a nota for maior que 9, então:\n",
    "        print(str(ii) + ' '+ aluno + ' nota = ' + str(dicionario['notas'] [ii])) "
   ]
  },
  {
   "cell_type": "code",
   "execution_count": 72,
   "id": "dc5f873c-08e9-4048-a428-3396da0379dd",
   "metadata": {},
   "outputs": [
    {
     "name": "stdout",
     "output_type": "stream",
     "text": [
      "['Guilherme' 'Flavia' 'Lucas']\n",
      "<class 'numpy.ndarray'>\n",
      "\n",
      "[False False  True]\n",
      "(array([2], dtype=int64),)\n",
      "\n"
     ]
    },
    {
     "name": "stderr",
     "output_type": "stream",
     "text": [
      "C:\\Users\\Acer\\AppData\\Local\\Temp\\ipykernel_5040\\1667565068.py:17: DeprecationWarning: Conversion of an array with ndim > 0 to a scalar is deprecated, and will error in future. Ensure you extract a single element from your array before performing this operation. (Deprecated NumPy 1.25.)\n",
      "  dicionario ['notas'][int(np.where(mat2)[0])] = 9.5 #0 significa pegue o valor\n"
     ]
    }
   ],
   "source": [
    "#treinando numpy\n",
    "#convertendo para np\n",
    "import numpy as np\n",
    "mat = np.array(dicionario['alunos'])\n",
    "print(mat)\n",
    "print(type(mat))\n",
    "\n",
    "print('')\n",
    "\n",
    "mat2 = np.array(mat=='Lucas') #mat2 é uma estrutura que comparou \n",
    "print(mat2)\n",
    "\n",
    "#local da matriz com valor verdadeiro\n",
    "print(np.where(mat2)) #np.where procura onde isso seria verdadeiro\n",
    "\n",
    "print('')\n",
    "dicionario ['notas'][int(np.where(mat2)[0])] = 9.5 #0 significa pegue o valor"
   ]
  },
  {
   "cell_type": "code",
   "execution_count": 76,
   "id": "3f65ff46-1dc1-4653-a0e3-36911880b685",
   "metadata": {},
   "outputs": [
    {
     "name": "stdout",
     "output_type": "stream",
     "text": [
      "[0.12823159 0.63852372 0.10988635 0.29232467 0.62197634 0.48272581\n",
      " 0.64109735 0.08527429 0.24116948 0.52060602 0.64219007 0.76570093\n",
      " 0.13337676 0.38972898 0.60389077 0.16235073 0.60676944 0.1367058\n",
      " 0.6486912  0.79433215 0.84570195 0.9443275  0.66240844 0.99681518\n",
      " 0.67081984 0.4492391  0.61219216 0.03182906 0.14278373 0.68812463\n",
      " 0.48481001 0.01912561 0.49553051 0.72915452 0.27063917 0.83814987\n",
      " 0.13439226 0.58476024 0.34571226 0.66487043 0.58068611 0.13383286\n",
      " 0.16007398 0.89929536 0.49371866 0.59344023 0.44940741 0.33577379\n",
      " 0.26880421 0.27435873 0.39684651 0.25091737 0.62103492 0.48485395\n",
      " 0.50840599 0.9649607  0.01434955 0.94113892 0.70273922 0.71647917\n",
      " 0.0593221  0.51030398 0.8862693  0.02215672 0.74680111 0.00725869\n",
      " 0.08313548 0.61218071 0.11680368 0.86515844 0.52128932 0.36367553\n",
      " 0.24483429 0.75998403 0.84171258 0.20689986 0.59424905 0.67644292\n",
      " 0.16779698 0.64260411 0.01239228 0.45256584 0.4677335  0.39718621\n",
      " 0.53624132 0.78886208 0.33723601 0.37034711 0.83489421 0.24319822\n",
      " 0.67090073 0.36189411 0.71726218 0.85841806 0.08781342 0.47529991\n",
      " 0.55137434 0.71681936 0.86508712 0.98637677]\n",
      "[0.12788045 0.59601067 0.10966534 0.28817905 0.58264253 0.46419523\n",
      " 0.59807526 0.08517098 0.23883842 0.49740596 0.59895066 0.69304247\n",
      " 0.13298167 0.37993773 0.56784938 0.16163847 0.57021655 0.13628039\n",
      " 0.60414397 0.71339576 0.74843684 0.81010284 0.61501772 0.83974595\n",
      " 0.62162839 0.43428026 0.57466288 0.03182369 0.14229907 0.63508969\n",
      " 0.46604027 0.01912444 0.47549842 0.66623937 0.26734739 0.74340695\n",
      " 0.13398808 0.55199948 0.33886689 0.61695717 0.54859772 0.1334337\n",
      " 0.15939124 0.78288871 0.47390372 0.55921635 0.43443186 0.32949985\n",
      " 0.26557878 0.27092971 0.38651186 0.24829271 0.58187715 0.46607915\n",
      " 0.48678546 0.82202654 0.01434905 0.8082293  0.64631034 0.65673361\n",
      " 0.05928731 0.48844252 0.7747182  0.02215491 0.67929469 0.00725863\n",
      " 0.08303975 0.57465351 0.11653827 0.76119802 0.49799862 0.35571176\n",
      " 0.24239556 0.68890987 0.74578511 0.20542687 0.5598867  0.62602317\n",
      " 0.16701068 0.59928216 0.01239196 0.4372745  0.45086439 0.38682513\n",
      " 0.51090851 0.7095519  0.33088006 0.36193903 0.74122551 0.24080795\n",
      " 0.62169175 0.35404629 0.65732389 0.7568095  0.08770061 0.45760514\n",
      " 0.52385839 0.65699012 0.76115177 0.83403247]\n"
     ]
    }
   ],
   "source": [
    "#matriz numpy\n",
    "\n",
    "vec = np.random.rand(100)\n",
    "print(vec)\n",
    "vec2 = np.sin(vec)\n",
    "print(vec2)"
   ]
  },
  {
   "cell_type": "code",
   "execution_count": 80,
   "id": "b4bb11fc-bf4e-4a26-8794-2ac355e2a202",
   "metadata": {},
   "outputs": [
    {
     "name": "stdout",
     "output_type": "stream",
     "text": [
      "2024-01-01\n",
      "2024-01-02\n",
      "2024-01-03\n",
      "2024-01-04\n",
      "2024-01-05\n",
      "2024-01-06\n",
      "2024-01-07\n",
      "2024-01-08\n",
      "2024-01-09\n",
      "2024-01-10\n",
      "2024-01-11\n",
      "2024-01-12\n",
      "2024-01-13\n",
      "2024-01-14\n",
      "2024-01-15\n",
      "2024-01-16\n",
      "2024-01-17\n",
      "2024-01-18\n",
      "2024-01-19\n",
      "2024-01-20\n",
      "2024-01-21\n",
      "2024-01-22\n",
      "2024-01-23\n",
      "2024-01-24\n",
      "2024-01-25\n",
      "2024-01-26\n",
      "2024-01-27\n",
      "2024-01-28\n",
      "2024-01-29\n",
      "2024-01-30\n",
      "2024-01-31\n",
      "2024-02-01\n",
      "2024-02-02\n",
      "2024-02-03\n",
      "2024-02-04\n",
      "2024-02-05\n",
      "2024-02-06\n",
      "2024-02-07\n",
      "2024-02-08\n",
      "2024-02-09\n",
      "2024-02-10\n",
      "2024-02-11\n",
      "2024-02-12\n",
      "2024-02-13\n",
      "2024-02-14\n",
      "2024-02-15\n",
      "2024-02-16\n",
      "2024-02-17\n",
      "2024-02-18\n",
      "2024-02-19\n",
      "2024-02-20\n",
      "2024-02-21\n",
      "2024-02-22\n",
      "2024-02-23\n",
      "2024-02-24\n",
      "2024-02-25\n",
      "2024-02-26\n",
      "2024-02-27\n",
      "2024-02-28\n",
      "2024-02-29\n",
      "2024-03-01\n",
      "2024-03-02\n",
      "2024-03-03\n",
      "2024-03-04\n",
      "2024-03-05\n",
      "2024-03-06\n",
      "2024-03-07\n",
      "2024-03-08\n",
      "2024-03-09\n",
      "2024-03-10\n",
      "2024-03-11\n",
      "2024-03-12\n",
      "2024-03-13\n",
      "2024-03-14\n",
      "2024-03-15\n",
      "2024-03-16\n",
      "2024-03-17\n",
      "2024-03-18\n",
      "2024-03-19\n",
      "2024-03-20\n",
      "2024-03-21\n",
      "2024-03-22\n",
      "2024-03-23\n",
      "2024-03-24\n",
      "2024-03-25\n",
      "2024-03-26\n",
      "2024-03-27\n",
      "2024-03-28\n",
      "2024-03-29\n",
      "2024-03-30\n",
      "2024-03-31\n",
      "2024-04-01\n",
      "2024-04-02\n",
      "2024-04-03\n",
      "2024-04-04\n",
      "2024-04-05\n",
      "2024-04-06\n",
      "2024-04-07\n",
      "2024-04-08\n",
      "2024-04-09\n"
     ]
    }
   ],
   "source": [
    "#Datetime\n",
    "\n",
    "from datetime import datetime, timedelta\n",
    "\n",
    "start_date = datetime(2024, 1, 1)\n",
    "date_vector = []\n",
    "\n",
    "for i in range(0, vec.shape[0]): #se a matriz tiver duas dimensoes, a linha 0. neste caso é só uma\n",
    "    date_vector.append(start_date + timedelta(days=i))\n",
    "\n",
    "for date in date_vector:\n",
    "    print(date.strftime('%Y-%m-%d'))"
   ]
  },
  {
   "cell_type": "code",
   "execution_count": 82,
   "id": "b0f43316-8f3e-42bb-ba52-c97f6031a29b",
   "metadata": {},
   "outputs": [
    {
     "name": "stdout",
     "output_type": "stream",
     "text": [
      "        datas       vec      vec2\n",
      "0  2024-01-01  0.128232  0.127880\n",
      "1  2024-01-02  0.638524  0.596011\n",
      "2  2024-01-03  0.109886  0.109665\n",
      "3  2024-01-04  0.292325  0.288179\n",
      "4  2024-01-05  0.621976  0.582643\n",
      "..        ...       ...       ...\n",
      "95 2024-04-05  0.475300  0.457605\n",
      "96 2024-04-06  0.551374  0.523858\n",
      "97 2024-04-07  0.716819  0.656990\n",
      "98 2024-04-08  0.865087  0.761152\n",
      "99 2024-04-09  0.986377  0.834032\n",
      "\n",
      "[100 rows x 3 columns]\n"
     ]
    }
   ],
   "source": [
    "import pandas as pd\n",
    "\n",
    "df = pd.DataFrame()\n",
    "df['datas'] = date_vector\n",
    "df['vec'] = vec\n",
    "df['vec2'] = vec2\n",
    "print(df)\n",
    "\n",
    "#salvando em uma pasta\n",
    "pasta = r\"C:\\Users\\Acer\\Desktop\\ENS5173_Barbara\\ENS5173_Barbara\\tabelas\"\n",
    "df.to_csv(pasta+'/planilha.csv')"
   ]
  },
  {
   "cell_type": "code",
   "execution_count": null,
   "id": "dc04f5f3-3421-4ab4-9c44-7aef6fb681b2",
   "metadata": {},
   "outputs": [],
   "source": []
  }
 ],
 "metadata": {
  "kernelspec": {
   "display_name": "Python 3 (ipykernel)",
   "language": "python",
   "name": "python3"
  },
  "language_info": {
   "codemirror_mode": {
    "name": "ipython",
    "version": 3
   },
   "file_extension": ".py",
   "mimetype": "text/x-python",
   "name": "python",
   "nbconvert_exporter": "python",
   "pygments_lexer": "ipython3",
   "version": "3.11.8"
  }
 },
 "nbformat": 4,
 "nbformat_minor": 5
}
