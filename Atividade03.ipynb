{
 "cells": [
  {
   "cell_type": "markdown",
   "id": "fd0bfb80-0eee-40f8-8a48-1644bd4bb8ab",
   "metadata": {},
   "source": [
    "# Modelagem de Dispersão\n",
    "\n",
    "Neste notebook vamos implementar um modelo de dispersão gaussiano"
   ]
  },
  {
   "cell_type": "code",
   "execution_count": 1,
   "id": "45631c31-b731-47e3-914c-310f8676992a",
   "metadata": {},
   "outputs": [],
   "source": [
    "#Criando uma função do modelo gaussiano\n",
    "import numpy as np\n",
    "\n",
    "def modeloGaussiano(qs, sigmaY, sigmaZ, u, y, z, H): # def usa para chamar novamente\n",
    "    termo1 = qs/(2*np.pi*sigmaY*sigmaZ*u)\n",
    "    termo2 = np.exp((-y**2)/(2*sigmaY**2))\n",
    "    termo3 = np.exp((-(z-H)**2)/(2*sigmaZ**2)) + np.exp((-(z+H)**2)/(2*sigmaZ**2))\n",
    "    conc = termo1*termo2*termo3 #conc é a concentração\n",
    "    return conc\n"
   ]
  },
  {
   "cell_type": "code",
   "execution_count": 5,
   "id": "b7425248-0d06-408d-8880-c35c9c68b74e",
   "metadata": {},
   "outputs": [
    {
     "name": "stdout",
     "output_type": "stream",
     "text": [
      "A concentração estimada é = 86.2052564132534µg/m³\n"
     ]
    }
   ],
   "source": [
    "# Utilizando a função do modelo Gaussiano\n",
    "qs = 100 #taxa de emissão em g/s\n",
    "sigmaY = 10 #espalhamento vertical em m\n",
    "sigmaZ = 15 #espalhamento horizontal em m\n",
    "u = 10 #velocidade vento\n",
    "y = 0 #pra ser na direção do vento, usa y=0\n",
    "z = 1.5 #altura media do nariz\n",
    "H = 50 #altura que a pluma subiu\n",
    "\n",
    "conc = modeloGaussiano (qs, sigmaY, sigmaZ, u, y, z, H)\n",
    "conc = conc*10**6 #muda a unidade de medida de g/s para µg/m³\n",
    "print (\"A concentração estimada é = \" +str(conc)+ 'µg/m³')"
   ]
  },
  {
   "cell_type": "code",
   "execution_count": null,
   "id": "0abd88d2-7e82-4346-829c-52281af67f00",
   "metadata": {},
   "outputs": [],
   "source": []
  }
 ],
 "metadata": {
  "kernelspec": {
   "display_name": "Python 3 (ipykernel)",
   "language": "python",
   "name": "python3"
  },
  "language_info": {
   "codemirror_mode": {
    "name": "ipython",
    "version": 3
   },
   "file_extension": ".py",
   "mimetype": "text/x-python",
   "name": "python",
   "nbconvert_exporter": "python",
   "pygments_lexer": "ipython3",
   "version": "3.11.8"
  }
 },
 "nbformat": 4,
 "nbformat_minor": 5
}
