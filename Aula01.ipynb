{
 "cells": [
  {
   "cell_type": "markdown",
   "id": "c17f293f-e293-4a62-a80f-5a39a50bb82e",
   "metadata": {},
   "source": [
    "# Aula 03/04/2024 - Comandos básicos no Python\n",
    "\n",
    "Nesta aula aprenderemos a importar pacotes e os tipos de variáveis \\\n",
    "Desenvolvedor: Bárbara Girardi"
   ]
  },
  {
   "cell_type": "markdown",
   "id": "53117623-ddaf-4f92-a1e7-00d964f4b454",
   "metadata": {},
   "source": [
    "## Tipos de variáveis"
   ]
  },
  {
   "cell_type": "code",
   "execution_count": 8,
   "id": "09523ef3-50ec-4941-a8e7-a7caf63c2d3e",
   "metadata": {},
   "outputs": [
    {
     "name": "stdout",
     "output_type": "stream",
     "text": [
      "a=1\n",
      "<class 'int'>\n"
     ]
    }
   ],
   "source": [
    "# Criando variáveis inteiras\n",
    "a = 1\n",
    "print('a='+str(a))\n",
    "print(type(a))"
   ]
  },
  {
   "cell_type": "code",
   "execution_count": 6,
   "id": "2a6e4d5c-079f-4b30-9112-cf51d34c70dc",
   "metadata": {},
   "outputs": [],
   "source": [
    "# Disse que a é =1 (criei a variável a), depois o print manda mostrar; o str serve para converter que o a é em texto, não o valor 1; por fim, faz o tipo da variável, neste caso inteiro"
   ]
  },
  {
   "cell_type": "code",
   "execution_count": 10,
   "id": "dd34c4c2-7c61-4a4b-bc6b-0883ff559a48",
   "metadata": {},
   "outputs": [
    {
     "name": "stdout",
     "output_type": "stream",
     "text": [
      "Salve o Corinthians\n",
      "<class 'str'>\n"
     ]
    }
   ],
   "source": [
    "# Criando variáveis string\n",
    "b='Salve o '\n",
    "c='Corinthians'\n",
    "print(b+c)\n",
    "print(type(b))"
   ]
  },
  {
   "cell_type": "code",
   "execution_count": 11,
   "id": "dc9f2194-64d9-4165-b4f9-9df186ad1885",
   "metadata": {},
   "outputs": [
    {
     "name": "stdout",
     "output_type": "stream",
     "text": [
      "666.666\n",
      "<class 'float'>\n"
     ]
    }
   ],
   "source": [
    "#Criando cariáveis sloat/double precision\n",
    "d=666.666\n",
    "print(d)\n",
    "print(type(d))\n"
   ]
  }
 ],
 "metadata": {
  "kernelspec": {
   "display_name": "Python 3 (ipykernel)",
   "language": "python",
   "name": "python3"
  },
  "language_info": {
   "codemirror_mode": {
    "name": "ipython",
    "version": 3
   },
   "file_extension": ".py",
   "mimetype": "text/x-python",
   "name": "python",
   "nbconvert_exporter": "python",
   "pygments_lexer": "ipython3",
   "version": "3.11.8"
  }
 },
 "nbformat": 4,
 "nbformat_minor": 5
}
