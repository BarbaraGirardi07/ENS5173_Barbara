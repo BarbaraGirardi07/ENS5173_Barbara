{
 "cells": [
  {
   "cell_type": "markdown",
   "id": "c0074776-a116-4cd9-af23-e238bd901d10",
   "metadata": {},
   "source": [
    "# Aula 02 - Python\n",
    "\n",
    "## Dados Numéricos"
   ]
  },
  {
   "cell_type": "code",
   "execution_count": 10,
   "id": "42dc1dbe-32c3-4b8a-a21d-ed02a72c9a69",
   "metadata": {},
   "outputs": [
    {
     "name": "stdout",
     "output_type": "stream",
     "text": [
      "Valor de a = 1\n"
     ]
    },
    {
     "data": {
      "text/plain": [
       "int"
      ]
     },
     "execution_count": 10,
     "metadata": {},
     "output_type": "execute_result"
    }
   ],
   "source": [
    "# Variável inteira (Resultou em INT, ou seja, inteiro: significa que o número é um inteiro)\n",
    "a = 1\n",
    "print('Valor de a = '+str(a))\n",
    "type(a)\n",
    "# OBS: STR converte A em string, ou seja, em um caracter letra/número; TYPE  mostra a variável na tela;"
   ]
  },
  {
   "cell_type": "code",
   "execution_count": 18,
   "id": "f69dd71f-1359-47c5-aebd-e86132caab7b",
   "metadata": {},
   "outputs": [
    {
     "name": "stdout",
     "output_type": "stream",
     "text": [
      "1.0\n"
     ]
    },
    {
     "data": {
      "text/plain": [
       "float"
      ]
     },
     "execution_count": 18,
     "metadata": {},
     "output_type": "execute_result"
    }
   ],
   "source": [
    "# Variável dupla precisão (Resultou em um FLOAT: número com vírgula.)\n",
    "b = 1.0\n",
    "print(b)\n",
    "type(b)"
   ]
  },
  {
   "cell_type": "code",
   "execution_count": 19,
   "id": "e046047d-0ee7-47e0-a6d8-b070f3896e6c",
   "metadata": {},
   "outputs": [
    {
     "name": "stdout",
     "output_type": "stream",
     "text": [
      "1\n"
     ]
    },
    {
     "data": {
      "text/plain": [
       "int"
      ]
     },
     "execution_count": 19,
     "metadata": {},
     "output_type": "execute_result"
    }
   ],
   "source": [
    "# Converter float para int (Arredonda: do número com vírgula para número inteiro)\n",
    "c = int (b)\n",
    "print (c)\n",
    "type (c)\n",
    "# OBS: Na linha 11 tinha dito que b valia 1.0. Nesta linha 12, digo que c vale um b inteiro. Logo, c é igual ao b arredondado."
   ]
  },
  {
   "cell_type": "code",
   "execution_count": 24,
   "id": "963ce3c8-9539-4206-b6ee-223b3fb63353",
   "metadata": {},
   "outputs": [
    {
     "name": "stdout",
     "output_type": "stream",
     "text": [
      "nan\n"
     ]
    },
    {
     "data": {
      "text/plain": [
       "float"
      ]
     },
     "execution_count": 24,
     "metadata": {},
     "output_type": "execute_result"
    }
   ],
   "source": [
    "# Declarando NaN (NaN significa Not a Number. É um valor especial usado para representar resultados inválidos ou indefinidos em operações matemáticas)\n",
    "import numpy as np\n",
    "d = np.nan\n",
    "print(d)\n",
    "type(d)\n",
    "# Disse aqui que d é igual a um número ainda desconhecido, um dado ausente. Isso permite que seja representado um \"valor\" na serie de dados."
   ]
  },
  {
   "cell_type": "code",
   "execution_count": 25,
   "id": "fd11e704-927f-4b1f-8006-06dac898752b",
   "metadata": {},
   "outputs": [
    {
     "name": "stdout",
     "output_type": "stream",
     "text": [
      "nan\n",
      "nan\n",
      "1.0\n"
     ]
    }
   ],
   "source": [
    "# Operação com NaN\n",
    "e = d*1\n",
    "print(e)\n",
    "e = d+1\n",
    "print(e)\n",
    "e = np.nansum([d,1])\n",
    "print(e)\n",
    "# As operações aqui com d* ou d+ resultam em nan pois d é um NaN multiplicado/somado com qualquer outro sempre irá resultar em nan\n",
    "# Já quando faz np.nansum, é uma função utilizada para calcular a soma de valores em uma matriz ignorando os valores nan. Logo, e calculou a soma dos valores d+1, sendo que nan foi ignorado (=0)."
   ]
  },
  {
   "cell_type": "markdown",
   "id": "965fb6bd-1b87-4201-ad80-f2d588fad16b",
   "metadata": {},
   "source": [
    "## Dados de Texto"
   ]
  },
  {
   "cell_type": "code",
   "execution_count": 30,
   "id": "20f170d0-2b49-47c2-9376-c594c59dd1b8",
   "metadata": {},
   "outputs": [
    {
     "name": "stdout",
     "output_type": "stream",
     "text": [
      "Fábio\n",
      "Gabriel\n",
      "FábioGabriel\n",
      "Fábio Gabriel\n"
     ]
    }
   ],
   "source": [
    "# Declaração de variável texto\n",
    "f = 'Fábio'\n",
    "g = \"Gabriel\"\n",
    "print(f)\n",
    "print(g)\n",
    "print(f+g)\n",
    "print (f+' '+g)\n",
    "#Notar que para escrever um texto pode usar ' ou \"; Para somar e dar espaço entre os caracteres, +' '+ "
   ]
  },
  {
   "cell_type": "markdown",
   "id": "2cc92f9c-c443-4efe-9ff9-852d00861efc",
   "metadata": {},
   "source": [
    "## Dados tipo BOOL - lógica"
   ]
  },
  {
   "cell_type": "code",
   "execution_count": 34,
   "id": "27260936-1972-4047-883a-7ab51a743ca6",
   "metadata": {},
   "outputs": [
    {
     "data": {
      "text/plain": [
       "True"
      ]
     },
     "execution_count": 34,
     "metadata": {},
     "output_type": "execute_result"
    }
   ],
   "source": [
    "a == 1\n",
    "# Já tinha atribuído o valor de a no início do código. == é utilizado para verificar se dois valores são iguais. Se sim: True; Se não, False."
   ]
  },
  {
   "cell_type": "code",
   "execution_count": 36,
   "id": "b18baf73-9608-45f8-a480-dbac11df0d08",
   "metadata": {},
   "outputs": [
    {
     "name": "stdout",
     "output_type": "stream",
     "text": [
      "True\n"
     ]
    },
    {
     "data": {
      "text/plain": [
       "bool"
      ]
     },
     "execution_count": 36,
     "metadata": {},
     "output_type": "execute_result"
    }
   ],
   "source": [
    "h = (a==1)\n",
    "print(h)\n",
    "type(h)\n",
    "# Atribui à variável h o resultado da comparação a == 1. Como anteriormente tinha dado True, então agora a variável h irá conter o valor booleano True."
   ]
  },
  {
   "cell_type": "code",
   "execution_count": 39,
   "id": "fed4e963-e474-4422-9232-8520b136eeee",
   "metadata": {},
   "outputs": [
    {
     "name": "stdout",
     "output_type": "stream",
     "text": [
      "False\n"
     ]
    },
    {
     "data": {
      "text/plain": [
       "bool"
      ]
     },
     "execution_count": 39,
     "metadata": {},
     "output_type": "execute_result"
    }
   ],
   "source": [
    "h = (a==2)\n",
    "print(h)\n",
    "type(h)\n",
    "# Fez o mesmo que o anterior, porém como agora a =/ 1, então h resulta como False"
   ]
  },
  {
   "cell_type": "code",
   "execution_count": 40,
   "id": "9ee2a432-5ee0-45df-aa3e-393d18e41a8f",
   "metadata": {},
   "outputs": [
    {
     "data": {
      "text/plain": [
       "bool"
      ]
     },
     "execution_count": 40,
     "metadata": {},
     "output_type": "execute_result"
    }
   ],
   "source": [
    "i = True\n",
    "type(i)\n",
    "#i resultou em BOOL pois True e False são tipo bool"
   ]
  },
  {
   "cell_type": "code",
   "execution_count": 41,
   "id": "72415e4c-37f7-4132-9cbd-264e9ab76e90",
   "metadata": {},
   "outputs": [
    {
     "data": {
      "text/plain": [
       "str"
      ]
     },
     "execution_count": 41,
     "metadata": {},
     "output_type": "execute_result"
    }
   ],
   "source": [
    "ii = 'True'\n",
    "type(ii)\n",
    "# Resulta em string pois está entre '', logo vira um texto e não um bool"
   ]
  },
  {
   "cell_type": "markdown",
   "id": "847a2421-f06d-4d43-9386-dcfa111d5096",
   "metadata": {},
   "source": [
    "## Operação de comparação\n",
    "### Considerando os valores anteriormente atribuídos às variáveis"
   ]
  },
  {
   "cell_type": "code",
   "execution_count": 42,
   "id": "4f095035-5557-4585-b299-ded062f75749",
   "metadata": {},
   "outputs": [
    {
     "data": {
      "text/plain": [
       "True"
      ]
     },
     "execution_count": 42,
     "metadata": {},
     "output_type": "execute_result"
    }
   ],
   "source": [
    "# Operação == (IGUAL)\n",
    "a == b"
   ]
  },
  {
   "cell_type": "code",
   "execution_count": 43,
   "id": "5950c9f3-4e82-42d5-9187-e7e4b0684725",
   "metadata": {},
   "outputs": [
    {
     "data": {
      "text/plain": [
       "False"
      ]
     },
     "execution_count": 43,
     "metadata": {},
     "output_type": "execute_result"
    }
   ],
   "source": [
    "# Operação >< (MAIOR ou MENOR)\n",
    "a>b"
   ]
  },
  {
   "cell_type": "code",
   "execution_count": 44,
   "id": "85eb883e-256b-47c8-b172-5f52ec2d2f4e",
   "metadata": {},
   "outputs": [
    {
     "data": {
      "text/plain": [
       "False"
      ]
     },
     "execution_count": 44,
     "metadata": {},
     "output_type": "execute_result"
    }
   ],
   "source": [
    "# Operação != (DIFERENTE: Retorna True se realmente forem diferentes)\n",
    "a!=b\n",
    "# Como a = b, resultou False"
   ]
  },
  {
   "cell_type": "code",
   "execution_count": 46,
   "id": "87e1417a-7f14-4515-a76d-910dd0b221c8",
   "metadata": {},
   "outputs": [
    {
     "data": {
      "text/plain": [
       "True"
      ]
     },
     "execution_count": 46,
     "metadata": {},
     "output_type": "execute_result"
    }
   ],
   "source": [
    "# Operação >= ou <=\n",
    "a>= b\n",
    "# Nesse caso, a e b são iguais"
   ]
  },
  {
   "cell_type": "markdown",
   "id": "1b5b5414-cdcf-4e8a-bc14-34e06116b177",
   "metadata": {},
   "source": [
    "## Operações Matemáticas"
   ]
  },
  {
   "cell_type": "code",
   "execution_count": 47,
   "id": "07b726e8-25b9-4c48-9309-d41d875a2ae9",
   "metadata": {},
   "outputs": [
    {
     "data": {
      "text/plain": [
       "2.0"
      ]
     },
     "execution_count": 47,
     "metadata": {},
     "output_type": "execute_result"
    }
   ],
   "source": [
    "# Soma\n",
    "a+b"
   ]
  },
  {
   "cell_type": "code",
   "execution_count": 48,
   "id": "ed664f70-dd7e-451f-82ee-c856b7477cef",
   "metadata": {},
   "outputs": [
    {
     "name": "stdout",
     "output_type": "stream",
     "text": [
      "2.0\n"
     ]
    }
   ],
   "source": [
    "# Soma e atribui valor\n",
    "ab = a+b\n",
    "print (ab)"
   ]
  },
  {
   "cell_type": "code",
   "execution_count": 51,
   "id": "15411945-cea1-4791-9e48-e240b1fed081",
   "metadata": {},
   "outputs": [
    {
     "name": "stdout",
     "output_type": "stream",
     "text": [
      "Não use l como nome de variável\n",
      "1.0\n"
     ]
    }
   ],
   "source": [
    "# Multiplicação\n",
    "l = a*b # não usar mais l como variável!\n",
    "print (\"Não use l como nome de variável\") #l é =1, porém pedi para print outra coisa\n",
    "j = a*b\n",
    "print(j)"
   ]
  },
  {
   "cell_type": "code",
   "execution_count": 52,
   "id": "671ee691-5782-4830-8bee-aa639ceaebf3",
   "metadata": {},
   "outputs": [
    {
     "data": {
      "text/plain": [
       "1.0"
      ]
     },
     "execution_count": 52,
     "metadata": {},
     "output_type": "execute_result"
    }
   ],
   "source": [
    "# Divisão\n",
    "a/b"
   ]
  },
  {
   "cell_type": "code",
   "execution_count": 53,
   "id": "af4558bc-6814-4f74-912d-c263c69dd2b5",
   "metadata": {},
   "outputs": [
    {
     "data": {
      "text/plain": [
       "25"
      ]
     },
     "execution_count": 53,
     "metadata": {},
     "output_type": "execute_result"
    }
   ],
   "source": [
    "# Potência\n",
    "5**2"
   ]
  },
  {
   "cell_type": "code",
   "execution_count": 54,
   "id": "648e34ab-d997-4f53-9e6e-c37f21f328cc",
   "metadata": {},
   "outputs": [
    {
     "data": {
      "text/plain": [
       "22026.465794806718"
      ]
     },
     "execution_count": 54,
     "metadata": {},
     "output_type": "execute_result"
    }
   ],
   "source": [
    "# Operações matemáticas com a biblioteca MATH\n",
    "import math\n",
    "math.exp(10)"
   ]
  },
  {
   "cell_type": "code",
   "execution_count": 55,
   "id": "5ce73ea1-84d4-40ca-b2ca-ce5bc94ab42e",
   "metadata": {},
   "outputs": [
    {
     "data": {
      "text/plain": [
       "1.0"
      ]
     },
     "execution_count": 55,
     "metadata": {},
     "output_type": "execute_result"
    }
   ],
   "source": [
    "math.exp(0)"
   ]
  },
  {
   "cell_type": "code",
   "execution_count": 56,
   "id": "cebf140a-c559-4c07-af43-2ab7796784df",
   "metadata": {},
   "outputs": [
    {
     "data": {
      "text/plain": [
       "2.718281828459045"
      ]
     },
     "execution_count": 56,
     "metadata": {},
     "output_type": "execute_result"
    }
   ],
   "source": [
    "math.exp(a)"
   ]
  },
  {
   "cell_type": "code",
   "execution_count": 57,
   "id": "906692d0-12dd-4e05-8bc1-267feb7f4cce",
   "metadata": {},
   "outputs": [
    {
     "data": {
      "text/plain": [
       "4.5399929762484854e-05"
      ]
     },
     "execution_count": 57,
     "metadata": {},
     "output_type": "execute_result"
    }
   ],
   "source": [
    "math.exp(-10)"
   ]
  },
  {
   "cell_type": "code",
   "execution_count": 58,
   "id": "64559532-7594-43dd-a37d-b815d3f83a9b",
   "metadata": {},
   "outputs": [
    {
     "data": {
      "text/plain": [
       "0.0"
      ]
     },
     "execution_count": 58,
     "metadata": {},
     "output_type": "execute_result"
    }
   ],
   "source": [
    "import math as mt #importou o módulo math e renomeou como mt\n",
    "mt.log(c)"
   ]
  },
  {
   "cell_type": "code",
   "execution_count": 59,
   "id": "1bb3d483-ac91-4882-bb7a-a6ec36907c35",
   "metadata": {},
   "outputs": [
    {
     "data": {
      "text/plain": [
       "2.0"
      ]
     },
     "execution_count": 59,
     "metadata": {},
     "output_type": "execute_result"
    }
   ],
   "source": [
    "mt.log10(100)"
   ]
  },
  {
   "cell_type": "markdown",
   "id": "446a8fef-5071-44e8-85bb-c05f6aaa5db9",
   "metadata": {},
   "source": [
    "## Listas"
   ]
  },
  {
   "cell_type": "code",
   "execution_count": 61,
   "id": "1ecc5be9-7da2-4f53-9cae-e06ae7964c53",
   "metadata": {},
   "outputs": [
    {
     "name": "stdout",
     "output_type": "stream",
     "text": [
      "[1, 2, 3]\n"
     ]
    }
   ],
   "source": [
    "myFirstList = [1, 2, 3] #cria uma lista, ou seja, uma estrutura de dados que armazena os itens de forma ordenada\n",
    "print(myFirstList)"
   ]
  },
  {
   "cell_type": "code",
   "execution_count": 62,
   "id": "ebf74755-b8b6-45e0-bf3f-ae35948dbcf3",
   "metadata": {},
   "outputs": [
    {
     "name": "stdout",
     "output_type": "stream",
     "text": [
      "1\n",
      "3\n"
     ]
    }
   ],
   "source": [
    "# Acessando valores da lista pelo index\n",
    "print(myFirstList[0]) #puxa o primeiro número da lista\n",
    "print(myFirstList[2]) #puxa o terceiro número da lista"
   ]
  },
  {
   "cell_type": "code",
   "execution_count": 66,
   "id": "89a27715-ef9a-43c7-b710-6a07d8250071",
   "metadata": {},
   "outputs": [
    {
     "data": {
      "text/plain": [
       "False"
      ]
     },
     "execution_count": 66,
     "metadata": {},
     "output_type": "execute_result"
    }
   ],
   "source": [
    "myFirstList == a #False pois a lista não é igual a 1, valor da variável a"
   ]
  },
  {
   "cell_type": "code",
   "execution_count": 65,
   "id": "7bec14d4-abb7-4fb2-9557-de9e793c97a1",
   "metadata": {},
   "outputs": [
    {
     "data": {
      "text/plain": [
       "True"
      ]
     },
     "execution_count": 65,
     "metadata": {},
     "output_type": "execute_result"
    }
   ],
   "source": [
    "myFirstList[0] == a #True pois o item zero é igual a variável a"
   ]
  },
  {
   "cell_type": "code",
   "execution_count": 67,
   "id": "e1659962-6aa8-4584-8c58-3d95fd1a99f7",
   "metadata": {},
   "outputs": [
    {
     "name": "stdout",
     "output_type": "stream",
     "text": [
      "[1, 1, 'c']\n"
     ]
    }
   ],
   "source": [
    "mySecList = [1, a, 'c']\n",
    "print(mySecList)"
   ]
  },
  {
   "cell_type": "code",
   "execution_count": 69,
   "id": "8031498c-5ef1-4786-a41b-bbb037f8de7b",
   "metadata": {},
   "outputs": [
    {
     "data": {
      "text/plain": [
       "list"
      ]
     },
     "execution_count": 69,
     "metadata": {},
     "output_type": "execute_result"
    }
   ],
   "source": [
    "type(mySecList) #o tipo da variável é uma lista"
   ]
  },
  {
   "cell_type": "code",
   "execution_count": 72,
   "id": "903f4221-0f09-439d-80b2-148af161eb19",
   "metadata": {},
   "outputs": [
    {
     "data": {
      "text/plain": [
       "str"
      ]
     },
     "execution_count": 72,
     "metadata": {},
     "output_type": "execute_result"
    }
   ],
   "source": [
    "type(mySecList[2]) #como o terceiro item da lista é um texto, o tipo é string"
   ]
  },
  {
   "cell_type": "code",
   "execution_count": 73,
   "id": "37fb9ad4-fa6f-4e5d-95f4-e1881aabdc5d",
   "metadata": {},
   "outputs": [
    {
     "data": {
      "text/plain": [
       "int"
      ]
     },
     "execution_count": 73,
     "metadata": {},
     "output_type": "execute_result"
    }
   ],
   "source": [
    "type(mySecList[1]) #como a tem valor =1 inteiro, o tipo é inteiro"
   ]
  },
  {
   "cell_type": "markdown",
   "id": "ab836341-7287-4948-a3fd-4a65a838a770",
   "metadata": {},
   "source": [
    "## Caminhos = PATH"
   ]
  },
  {
   "cell_type": "code",
   "execution_count": 79,
   "id": "2c2b5a53-115d-47d7-8629-7368ee911a6e",
   "metadata": {},
   "outputs": [
    {
     "name": "stdout",
     "output_type": "stream",
     "text": [
      "C:\\Users\\Acer\\Desktop\\ENS5173_Barbara\\ENS5173_Barbara\n"
     ]
    }
   ],
   "source": [
    "path = r\"C:\\Users\\Acer\\Desktop\\ENS5173_Barbara\\ENS5173_Barbara\"\n",
    "print(path)\n",
    "#Defini o caminho do arquivo usando r antes, significa que os caracteres de escape dentro da string não são interpretaods."
   ]
  },
  {
   "cell_type": "code",
   "execution_count": 80,
   "id": "2a411ddd-580f-479e-b437-c91dbcb4700a",
   "metadata": {},
   "outputs": [
    {
     "name": "stdout",
     "output_type": "stream",
     "text": [
      "C:/Users/Acer/Desktop/ENS5173_Barbara/ENS5173_Barbara\n"
     ]
    }
   ],
   "source": [
    "path = \"C:/Users/Acer/Desktop/ENS5173_Barbara/ENS5173_Barbara\"\n",
    "print(path)\n",
    "#VERIFICAR COM PROF QUAL O OBJETIVO DESTA LINHA"
   ]
  },
  {
   "cell_type": "code",
   "execution_count": 81,
   "id": "fc15da82-1de8-4825-bfec-2f923b1c95d4",
   "metadata": {},
   "outputs": [
    {
     "data": {
      "text/plain": [
       "['.git',\n",
       " '.gitignore',\n",
       " '.ipynb_checkpoints',\n",
       " 'Aula01.ipynb',\n",
       " 'inputs',\n",
       " 'README.md',\n",
       " 'scripts',\n",
       " 'venv']"
      ]
     },
     "execution_count": 81,
     "metadata": {},
     "output_type": "execute_result"
    }
   ],
   "source": [
    "import os #Listar arquivos na pasta\n",
    "os.listdir(path)"
   ]
  },
  {
   "cell_type": "code",
   "execution_count": 82,
   "id": "4c0f8daa-01a0-40b4-a26f-cac0d3ce4618",
   "metadata": {},
   "outputs": [
    {
     "data": {
      "text/plain": [
       "'.git'"
      ]
     },
     "execution_count": 82,
     "metadata": {},
     "output_type": "execute_result"
    }
   ],
   "source": [
    "# Selecionar o primeiro arquivo listado\n",
    "os.listdir(path)[0]"
   ]
  },
  {
   "cell_type": "code",
   "execution_count": 84,
   "id": "49f8c840-224c-4baa-8616-7fd8522d7d55",
   "metadata": {},
   "outputs": [
    {
     "data": {
      "text/plain": [
       "'C:/Users/Acer/Desktop/ENS5173_Barbara/ENS5173_Barbara/.git'"
      ]
     },
     "execution_count": 84,
     "metadata": {},
     "output_type": "execute_result"
    }
   ],
   "source": [
    "#Concatenando caminhos\n",
    "path+\"/\"+os.listdir(path)[0]"
   ]
  },
  {
   "cell_type": "code",
   "execution_count": 85,
   "id": "24a97122-22f7-4fb9-8ddc-a30b315dc45a",
   "metadata": {},
   "outputs": [
    {
     "data": {
      "text/plain": [
       "['COMMIT_EDITMSG',\n",
       " 'config',\n",
       " 'description',\n",
       " 'FETCH_HEAD',\n",
       " 'HEAD',\n",
       " 'hooks',\n",
       " 'index',\n",
       " 'info',\n",
       " 'logs',\n",
       " 'objects',\n",
       " 'packed-refs',\n",
       " 'refs']"
      ]
     },
     "execution_count": 85,
     "metadata": {},
     "output_type": "execute_result"
    }
   ],
   "source": [
    "# Listando caminho concatenado\n",
    "os.listdir(path+\"/\"+os.listdir(path)[0])"
   ]
  },
  {
   "cell_type": "code",
   "execution_count": 86,
   "id": "2b1351fc-327c-4a79-b138-54988ee8c570",
   "metadata": {},
   "outputs": [
    {
     "data": {
      "text/plain": [
       "'C:\\\\Users\\\\Acer\\\\Desktop\\\\ENS5173_Barbara\\\\ENS5173_Barbara\\\\venv\\\\Scripts'"
      ]
     },
     "execution_count": 86,
     "metadata": {},
     "output_type": "execute_result"
    }
   ],
   "source": [
    "# Diretório que estou trabalhando\n",
    "os.getcwd()"
   ]
  },
  {
   "cell_type": "code",
   "execution_count": 88,
   "id": "12366c21-0c91-4247-ba4c-4afe2f66948b",
   "metadata": {},
   "outputs": [],
   "source": [
    "# Mudo de diretório para o caminho\n",
    "os.chdir('C:\\\\Users\\\\Acer\\\\Desktop\\\\ENS5173_Barbara\\\\')"
   ]
  },
  {
   "cell_type": "code",
   "execution_count": 89,
   "id": "9dbce6b3-5e7f-4b41-9a07-2280d173e6e5",
   "metadata": {},
   "outputs": [
    {
     "data": {
      "text/plain": [
       "'C:\\\\Users\\\\Acer\\\\Desktop\\\\ENS5173_Barbara'"
      ]
     },
     "execution_count": 89,
     "metadata": {},
     "output_type": "execute_result"
    }
   ],
   "source": [
    "os.getcwd()"
   ]
  },
  {
   "cell_type": "code",
   "execution_count": 90,
   "id": "11cc2c61-8d25-4439-b478-9934ba5fec0f",
   "metadata": {},
   "outputs": [
    {
     "name": "stdout",
     "output_type": "stream",
     "text": [
      "Criando diretório C:\\Users\\Acer\\Desktop\\ENS5173_Barbara/test\n"
     ]
    }
   ],
   "source": [
    "# Criando diretório\n",
    "new_path = os.getcwd()+'/test'\n",
    "\n",
    "if os.path.isdir(new_path):\n",
    "    print('diretório já existe')\n",
    "else:\n",
    "    print('Criando diretório '+new_path)\n",
    "    os.mkdir(new_path)"
   ]
  },
  {
   "cell_type": "code",
   "execution_count": 91,
   "id": "74a94bdc-0b65-47b5-bcdf-99985bd34ccf",
   "metadata": {},
   "outputs": [
    {
     "name": "stdout",
     "output_type": "stream",
     "text": [
      "Criando diretório C:\\Users\\Acer\\Desktop\\ENS5173_Barbara/test2\n"
     ]
    }
   ],
   "source": [
    "# Criando diretório\n",
    "new_path = os.getcwd()+'/test2'\n",
    "\n",
    "if os.path.isdir(new_path):\n",
    "    print('diretório já existe')\n",
    "    # Criando um arquivo de texto\n",
    "    with open(new_path+\"/copy.txt\", \"w\") as file:\n",
    "        file.write(\"Your text goes here\")\n",
    "else:\n",
    "    print('Criando diretório '+new_path)\n",
    "    os.mkdir(new_path)\n",
    "    with open(new_path+\"/copy.txt\", \"w\") as file:\n",
    "        file.write(\"Your text goes here\")"
   ]
  },
  {
   "cell_type": "code",
   "execution_count": 92,
   "id": "4d1fd22e-8301-472d-912d-f91a12c18215",
   "metadata": {},
   "outputs": [],
   "source": [
    "#NESTA ETAPA DE PATH: Mexemos no diretório do computador, alterando caminhos e pastas"
   ]
  },
  {
   "cell_type": "markdown",
   "id": "86d5df54-9463-409e-8404-bdd95eac2181",
   "metadata": {},
   "source": [
    "## Numpy Arrays e Pandas DataFrames"
   ]
  },
  {
   "cell_type": "code",
   "execution_count": 93,
   "id": "d188b977-3efb-481c-a39e-227e8bd25d6a",
   "metadata": {},
   "outputs": [
    {
     "data": {
      "text/plain": [
       "numpy.ndarray"
      ]
     },
     "execution_count": 93,
     "metadata": {},
     "output_type": "execute_result"
    }
   ],
   "source": [
    "import numpy as np\n",
    "# Criando uma variável numpy\n",
    "n = np.array(0)\n",
    "type(n)"
   ]
  },
  {
   "cell_type": "code",
   "execution_count": 94,
   "id": "8a0522f8-3148-42c2-b05f-aa9fb5b8e65a",
   "metadata": {},
   "outputs": [
    {
     "name": "stdout",
     "output_type": "stream",
     "text": [
      "[ 1  2  3 10 20 55]\n"
     ]
    }
   ],
   "source": [
    "# Criando uma variável numpy a partir de uma lista\n",
    "myThirdList=[1,2,3,10,20,55]\n",
    "n = np.array(myThirdList)\n",
    "print(n)"
   ]
  },
  {
   "cell_type": "code",
   "execution_count": 95,
   "id": "9dc8fac8-8f15-4489-a96b-31abe5e142a1",
   "metadata": {},
   "outputs": [
    {
     "name": "stdout",
     "output_type": "stream",
     "text": [
      "[[6.63161855e-01 4.96248062e-01 7.86116520e-01 9.40247893e-01\n",
      "  7.71043981e-01 6.85724573e-01 2.09341708e-01 1.84273469e-01\n",
      "  9.64085376e-01 3.59774828e-01]\n",
      " [7.21637248e-01 5.57872361e-01 2.91516361e-01 4.72858588e-01\n",
      "  2.10489196e-01 4.89985875e-01 5.22369511e-01 8.89652822e-01\n",
      "  9.03972089e-02 2.60436363e-01]\n",
      " [9.86350387e-01 7.76598251e-01 3.28662605e-01 1.83332853e-01\n",
      "  1.93828944e-01 2.03569250e-01 6.01241149e-01 1.53912211e-01\n",
      "  5.70124836e-01 6.93103236e-01]\n",
      " [4.53493120e-01 2.61835106e-01 6.80776292e-01 1.82199236e-01\n",
      "  7.69070659e-01 9.52958630e-01 2.43508518e-01 4.41914935e-01\n",
      "  5.59543599e-06 4.72632781e-01]\n",
      " [1.18780951e-01 2.34469606e-02 7.69253797e-01 8.31058023e-01\n",
      "  8.09965328e-01 8.28949851e-01 6.28497615e-01 9.55497863e-01\n",
      "  5.12067895e-01 7.59092936e-01]\n",
      " [2.99127823e-02 8.70999594e-01 9.83462473e-01 9.03290358e-02\n",
      "  9.80630553e-01 4.10881096e-01 3.72389191e-01 7.31421474e-02\n",
      "  6.12707821e-01 8.98954900e-01]\n",
      " [7.48050047e-01 2.23254914e-01 6.62289872e-01 1.57017410e-01\n",
      "  6.48502730e-01 4.32317935e-01 9.03874483e-02 7.52357443e-01\n",
      "  2.15201031e-01 3.28523019e-01]\n",
      " [2.38294036e-01 9.50692854e-01 8.24628294e-01 4.40760959e-01\n",
      "  8.71929047e-01 4.58839740e-01 5.79181580e-01 3.48370796e-02\n",
      "  5.91443365e-01 1.00890865e-02]\n",
      " [3.35909083e-01 8.41764738e-01 2.11129075e-01 1.76001129e-01\n",
      "  8.03287238e-01 7.95848206e-01 1.83952790e-02 9.23895922e-01\n",
      "  5.70069004e-01 3.89526232e-01]\n",
      " [6.72937573e-01 7.33239565e-02 9.96175841e-01 5.84563395e-01\n",
      "  1.81822028e-01 3.16245799e-02 3.48603874e-01 1.15719859e-01\n",
      "  4.02139828e-01 9.72676799e-01]]\n",
      "(10, 10)\n"
     ]
    }
   ],
   "source": [
    "# Criando uma matriz de 10x10 de números aleatórios entre 0 e 1\n",
    "n = np.random.rand(10,10)\n",
    "print(n)\n",
    "# Dimensões da matrix\n",
    "print(n.shape)"
   ]
  },
  {
   "cell_type": "code",
   "execution_count": 101,
   "id": "5e771ccd-147f-4106-b010-72930da9cccd",
   "metadata": {},
   "outputs": [
    {
     "data": {
      "text/plain": [
       "array([0.66316185, 0.49624806, 0.78611652, 0.94024789, 0.77104398,\n",
       "       0.68572457, 0.20934171, 0.18427347, 0.96408538, 0.35977483])"
      ]
     },
     "execution_count": 101,
     "metadata": {},
     "output_type": "execute_result"
    }
   ],
   "source": [
    "# Acessando valores da matriz\n",
    "# : depois da vírgula significa que todas as colunas devem ser retornadas\n",
    "n[0,:] # Acessa a primeira linha da matriz, do primeiro ao último item"
   ]
  },
  {
   "cell_type": "code",
   "execution_count": 102,
   "id": "2bf1e161-982f-4ff3-8360-c2c478ef52c8",
   "metadata": {},
   "outputs": [
    {
     "data": {
      "text/plain": [
       "array([0.66316185, 0.72163725, 0.98635039, 0.45349312, 0.11878095,\n",
       "       0.02991278, 0.74805005, 0.23829404, 0.33590908, 0.67293757])"
      ]
     },
     "execution_count": 102,
     "metadata": {},
     "output_type": "execute_result"
    }
   ],
   "source": [
    "n[:,0] # Acessa uma coluna específica, neste caso a primeira\n",
    "# : antes da vírgula significa que todas as linhas devem ser retornadas"
   ]
  },
  {
   "cell_type": "code",
   "execution_count": 103,
   "id": "66889308-bd13-4196-b546-78eec0f54646",
   "metadata": {},
   "outputs": [
    {
     "data": {
      "text/plain": [
       "array([[0.49624806, 0.78611652, 0.94024789, 0.77104398],\n",
       "       [0.55787236, 0.29151636, 0.47285859, 0.2104892 ],\n",
       "       [0.77659825, 0.32866261, 0.18333285, 0.19382894],\n",
       "       [0.26183511, 0.68077629, 0.18219924, 0.76907066],\n",
       "       [0.02344696, 0.7692538 , 0.83105802, 0.80996533],\n",
       "       [0.87099959, 0.98346247, 0.09032904, 0.98063055],\n",
       "       [0.22325491, 0.66228987, 0.15701741, 0.64850273],\n",
       "       [0.95069285, 0.82462829, 0.44076096, 0.87192905],\n",
       "       [0.84176474, 0.21112908, 0.17600113, 0.80328724],\n",
       "       [0.07332396, 0.99617584, 0.58456339, 0.18182203]])"
      ]
     },
     "execution_count": 103,
     "metadata": {},
     "output_type": "execute_result"
    }
   ],
   "source": [
    "n[:,1:5] # usado para acessar um intervalo de colunas na matriz, sendo que : antes da vírgula indica todas as linhas e 1:5 indica acesso as colunas do índice 1 até o 5 inclusive"
   ]
  },
  {
   "cell_type": "code",
   "execution_count": 104,
   "id": "7e0bde13-be55-4e4c-b2e6-8dddc7e9e298",
   "metadata": {},
   "outputs": [
    {
     "data": {
      "text/plain": [
       "array([0.49624806, 0.78611652, 0.94024789, 0.77104398])"
      ]
     },
     "execution_count": 104,
     "metadata": {},
     "output_type": "execute_result"
    }
   ],
   "source": [
    "n[0,1:5] # acessa a primeira linha (0) e o intervalo de colunas de 1 ate 5"
   ]
  },
  {
   "cell_type": "code",
   "execution_count": 107,
   "id": "1cad6b17-ae91-420d-91d6-8f80862a83cf",
   "metadata": {},
   "outputs": [
    {
     "data": {
      "text/plain": [
       "0.3597748284439304"
      ]
     },
     "execution_count": 107,
     "metadata": {},
     "output_type": "execute_result"
    }
   ],
   "source": [
    "n[0, -1] #acessa o último elemento da primeira linha"
   ]
  },
  {
   "cell_type": "code",
   "execution_count": 108,
   "id": "5fd0e100-2ed0-4e3a-bfb0-5ac81f9face7",
   "metadata": {},
   "outputs": [
    {
     "data": {
      "text/plain": [
       "array([0.77104398, 0.68572457, 0.20934171, 0.18427347, 0.96408538])"
      ]
     },
     "execution_count": 108,
     "metadata": {},
     "output_type": "execute_result"
    }
   ],
   "source": [
    "n[0,4:-1]"
   ]
  },
  {
   "cell_type": "code",
   "execution_count": 109,
   "id": "9b89028c-a824-4ffa-8cc0-16c911ccaef2",
   "metadata": {},
   "outputs": [
    {
     "data": {
      "text/plain": [
       "array([0.77104398, 0.68572457, 0.20934171, 0.18427347, 0.96408538,\n",
       "       0.35977483])"
      ]
     },
     "execution_count": 109,
     "metadata": {},
     "output_type": "execute_result"
    }
   ],
   "source": [
    "n[0,4:]"
   ]
  },
  {
   "cell_type": "code",
   "execution_count": 111,
   "id": "49859492-056b-40be-90d8-bc266c247f20",
   "metadata": {},
   "outputs": [
    {
     "name": "stdout",
     "output_type": "stream",
     "text": [
      "[[  1.19870172   0.90875856   1.36878766   1.54782619   1.34942805\n",
      "    1.23215868   0.04565052  -0.08189647   1.57286249   0.58716099]\n",
      " [  1.28320522   1.02581283   0.37677877   0.86047901   0.05111696\n",
      "    0.8960592    0.96005785   1.49251393  -0.79410397   0.26404118]\n",
      " [  1.59569429   1.3566058    0.49671434  -0.087014    -0.03134133\n",
      "    0.01768888   1.10067873  -0.26193499   1.04753798   1.24286159]\n",
      " [  0.81866273   0.26939757   1.22491639  -0.09321658   1.34686548\n",
      "    1.56125413   0.19683456   0.79280004 -10.48412138   0.86000136]\n",
      " [ -0.52103632  -2.14357649   1.34710358   1.42438225   1.39867407\n",
      "    1.42184229   1.14501487   1.56391516   0.94013986   1.33380685]\n",
      " [ -1.90003148   1.47132414   1.59276211  -0.79485841   1.58987842\n",
      "    0.7199865    0.62162215  -1.00591259   1.11957082   1.5029155 ]\n",
      " [  1.31915252   0.10999686   1.19738597  -0.24196068   1.17634885\n",
      "    0.77084391  -0.79421195   1.32489417   0.07325525   0.49628954]\n",
      " [  0.17518799   1.55887367   1.41661537   0.79018532   1.47239069\n",
      "    0.83038363   1.06329867  -1.74763504   1.08424856  -2.98686307]\n",
      " [  0.51852317   1.4371832    0.05415231  -0.12782696   1.39039499\n",
      "    1.38109111  -2.38622331   1.53028206   1.04744005   0.66661385]\n",
      " [  1.2133352   -1.00342998   1.60560642   1.07254787  -0.09528903\n",
      "   -1.8443827    0.55561888  -0.54714511   0.69848249   1.58173449]]\n"
     ]
    }
   ],
   "source": [
    "an = np.log(n*5) #calcula o logatirmode cada elemento da matriz por 5\n",
    "print(an)"
   ]
  },
  {
   "cell_type": "code",
   "execution_count": null,
   "id": "bdd2566e-1e89-48ea-8198-4533638b3956",
   "metadata": {},
   "outputs": [],
   "source": []
  }
 ],
 "metadata": {
  "kernelspec": {
   "display_name": "Python 3 (ipykernel)",
   "language": "python",
   "name": "python3"
  },
  "language_info": {
   "codemirror_mode": {
    "name": "ipython",
    "version": 3
   },
   "file_extension": ".py",
   "mimetype": "text/x-python",
   "name": "python",
   "nbconvert_exporter": "python",
   "pygments_lexer": "ipython3",
   "version": "3.11.8"
  }
 },
 "nbformat": 4,
 "nbformat_minor": 5
}
